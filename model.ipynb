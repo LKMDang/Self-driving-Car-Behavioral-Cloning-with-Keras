{
  "nbformat": 4,
  "nbformat_minor": 0,
  "metadata": {
    "kernelspec": {
      "display_name": "Python 3",
      "language": "python",
      "name": "python3"
    },
    "language_info": {
      "codemirror_mode": {
        "name": "ipython",
        "version": 3
      },
      "file_extension": ".py",
      "mimetype": "text/x-python",
      "name": "python",
      "nbconvert_exporter": "python",
      "pygments_lexer": "ipython3",
      "version": "3.7.6"
    },
    "colab": {
      "name": "CarRacingModelCustom.ipynb",
      "provenance": [],
      "collapsed_sections": []
    },
    "accelerator": "GPU"
  },
  "cells": [
    {
      "cell_type": "code",
      "metadata": {
        "id": "5Ro63B9kzXx9"
      },
      "source": [
        "import pandas as pd\n",
        "import numpy as np\n",
        "import tensorflow as tf\n",
        "import cv2\n",
        "import matplotlib.pyplot as plt\n",
        "import matplotlib.image as mpimg\n",
        "from sklearn.model_selection import train_test_split\n",
        "from tensorflow.keras.models import Sequential\n",
        "from tensorflow.keras.optimizers import Adam\n",
        "from tensorflow.keras.callbacks import ModelCheckpoint\n",
        "from tensorflow.keras.layers import Lambda, Conv2D, MaxPooling2D, Dropout, Dense, Flatten\n",
        "from tensorflow.keras.models import load_model\n",
        "import os"
      ],
      "execution_count": null,
      "outputs": []
    },
    {
      "cell_type": "code",
      "metadata": {
        "id": "CWz5467W0s_c"
      },
      "source": [
        "# Utils\n",
        "\n",
        "IMAGE_HEIGHT, IMAGE_WIDTH, IMAGE_CHANNELS = 64, 64, 3\n",
        "INPUT_SHAPE = (IMAGE_HEIGHT, IMAGE_WIDTH, IMAGE_CHANNELS)\n",
        "\n",
        "def load_image(data_dir, image_file):\n",
        "    return mpimg.imread(os.path.join(data_dir, image_file.strip()))\n",
        "\n",
        "def preprocess(image):\n",
        "    image = image[60:-25, :, :] # crop\n",
        "    image = cv2.resize(image, (IMAGE_WIDTH, IMAGE_HEIGHT), cv2.INTER_AREA) # resize\n",
        "    #image[np.where((image > [220, 220, 220]).all(axis=2))] = [255, 255, 255] # fix noisy white pixels\n",
        "    image = cv2.cvtColor(image, cv2.COLOR_RGB2YUV) # convert to YUV\n",
        "    image = cv2.GaussianBlur(image, (3, 3), 0) # add blur\n",
        "    return image\n",
        "\n",
        "def choose_image(data_dir, center, left, right, steering_angle):\n",
        "    if (left == \"no_data\") and (right == \"no_data\"):\n",
        "        return load_image(data_dir, center), steering_angle\n",
        "    choice = np.random.choice(3)\n",
        "    if choice == 0:\n",
        "        return load_image(data_dir, left), steering_angle + 0.2\n",
        "    elif choice == 1:\n",
        "        return load_image(data_dir, right), steering_angle - 0.2\n",
        "    return load_image(data_dir, center), steering_angle\n",
        "\n",
        "def random_flip(image, steering_angle):\n",
        "    if np.random.rand() < 0.5:\n",
        "        image = cv2.flip(image, 1)\n",
        "        steering_angle = -steering_angle\n",
        "    return image, steering_angle\n",
        "\n",
        "def random_translate(image, steering_angle, range_x, range_y):\n",
        "    trans_x = range_x * (np.random.uniform() - 0.5)\n",
        "    trans_y = range_y * (np.random.uniform() - 0.5)\n",
        "    steering_angle += trans_x * 0.002\n",
        "    trans_m = np.float32([[1, 0, trans_x], [0, 1, trans_y]])\n",
        "    height, width = image.shape[:2]\n",
        "    image = cv2.warpAffine(image, trans_m, (width, height))\n",
        "    return image, steering_angle\n",
        "\n",
        "def random_shadow(image):\n",
        "    top_y = 320*np.random.uniform()\n",
        "    top_x = 0\n",
        "    bot_x = 160\n",
        "    bot_y = 320*np.random.uniform()\n",
        "    image_hls = cv2.cvtColor(image,cv2.COLOR_RGB2HLS)\n",
        "    shadow_mask = 0*image_hls[:,:,1]\n",
        "    X_m = np.mgrid[0:image.shape[0],0:image.shape[1]][0]\n",
        "    Y_m = np.mgrid[0:image.shape[0],0:image.shape[1]][1]\n",
        "    shadow_mask[((X_m-top_x)*(bot_y-top_y) -(bot_x - top_x)*(Y_m-top_y) >=0)]=1\n",
        "    #random_bright = .25+.7*np.random.uniform()\n",
        "    if np.random.randint(2)==1:\n",
        "        random_bright = .4\n",
        "        cond1 = shadow_mask==1\n",
        "        cond0 = shadow_mask==0\n",
        "        if np.random.randint(2)==1:\n",
        "            image_hls[:,:,1][cond1] = image_hls[:,:,1][cond1]*random_bright\n",
        "        else:\n",
        "            image_hls[:,:,1][cond0] = image_hls[:,:,1][cond0]*random_bright    \n",
        "    image = cv2.cvtColor(image_hls,cv2.COLOR_HLS2RGB)\n",
        "    return image\n",
        "\n",
        "def random_brightness(image):\n",
        "    image1 = cv2.cvtColor(image, cv2.COLOR_RGB2HSV)\n",
        "    image1 = np.array(image1, dtype=np.float64)\n",
        "    random_bright = .5 + np.random.uniform()\n",
        "    image1[:, :, 2] = image1[:, :, 2] * random_bright\n",
        "    image1[:, :, 2][image1[:, :, 2] > 255] = 255\n",
        "    image1 = np.array(image1, dtype=np.uint8)\n",
        "    image1 = cv2.cvtColor(image1, cv2.COLOR_HSV2RGB)\n",
        "    return image1\n",
        "\n",
        "def augment(data_dir, center, left, right, steering_angle, range_x=100, range_y=10):\n",
        "    image, steering_angle = choose_image(data_dir, center, left, right, steering_angle)\n",
        "    #image, steering_angle = random_flip(image, steering_angle)\n",
        "    image, steering_angle = random_translate(image, steering_angle, range_x, range_y)\n",
        "    image = random_shadow(image)\n",
        "    image = random_brightness(image)\n",
        "    return image, steering_angle\n",
        "\n",
        "def batch_generator(data_dir, image_paths, steering_angles, batch_size, is_training):\n",
        "    images = np.empty((batch_size, IMAGE_HEIGHT, IMAGE_WIDTH, IMAGE_CHANNELS))\n",
        "    steers = np.empty(batch_size) \n",
        "    while True:\n",
        "        i = 0\n",
        "        for index in np.random.permutation(image_paths.shape[0]):\n",
        "            center, left, right = image_paths[index]\n",
        "            steering_angle = steering_angles[index]\n",
        "            # augmentation\n",
        "            if is_training and np.random.rand() < 0.6:\n",
        "                image, steering_angle = augment(data_dir, center, left, right, steering_angle)\n",
        "            else:\n",
        "                image = load_image(data_dir, center)\n",
        "            # add the image and steering angle to the batch\n",
        "            images[i] = preprocess(image)\n",
        "            steers[i] = steering_angle\n",
        "            i += 1\n",
        "            if i == batch_size:\n",
        "                break\n",
        "        yield images, steers"
      ],
      "execution_count": null,
      "outputs": []
    },
    {
      "cell_type": "code",
      "metadata": {
        "id": "WEMKgVG_zXyK"
      },
      "source": [
        "# Check GPU (skip this if GPU hardware acceleration is not chosen)\n",
        "device_name = tf.test.gpu_device_name()\n",
        "if device_name != '/device:GPU:0':\n",
        "    raise SystemError('GPU device not found')\n",
        "print('Found GPU at: {}'.format(device_name))"
      ],
      "execution_count": null,
      "outputs": []
    },
    {
      "cell_type": "code",
      "metadata": {
        "id": "cdDlJCzS0TlX"
      },
      "source": [
        "# Mount google drive\n",
        "from google.colab import drive\n",
        "drive.mount('/content/gdrive')"
      ],
      "execution_count": null,
      "outputs": []
    },
    {
      "cell_type": "code",
      "metadata": {
        "id": "UkXqaN-j0X-6"
      },
      "source": [
        "# Get data from google drive\n",
        "!unzip \"/content/gdrive/My Drive/data.zip\" -d \"/content\""
      ],
      "execution_count": null,
      "outputs": []
    },
    {
      "cell_type": "code",
      "metadata": {
        "id": "UvIi5unhzXyM"
      },
      "source": [
        "# Global variables and hyperparameters\n",
        "np.random.seed(0)\n",
        "data_dir = \"/content/data_lane_t12m123\"\n",
        "test_size = 0.1\n",
        "drop_rate = 0.35\n",
        "learning_rate = 0.0002\n",
        "batch_size = 32\n",
        "steps_per_epoch = 2000\n",
        "epochs = 80\n",
        "initial_epoch = 0"
      ],
      "execution_count": null,
      "outputs": []
    },
    {
      "cell_type": "code",
      "metadata": {
        "id": "TXNVub4NzXyP"
      },
      "source": [
        "# Load data\n",
        "data_df = pd.read_csv(os.path.join(data_dir, 'driving_log.csv'))\n",
        "\n",
        "X = data_df[['center', 'left', 'right']].values\n",
        "y = data_df['steering'].values\n",
        "\n",
        "X_train, X_val, y_train, y_val = train_test_split(X, y, test_size=test_size, random_state=0)\n",
        "print(X_train.shape)"
      ],
      "execution_count": null,
      "outputs": []
    },
    {
      "cell_type": "code",
      "metadata": {
        "id": "iEXIxpNQzXyS"
      },
      "source": [
        "# Build model (Custom)\n",
        "model = Sequential()\n",
        "model.add(Lambda(lambda x: x/255.0 - 0.5, input_shape=INPUT_SHAPE))\n",
        "model.add(Conv2D(3, (1, 1), activation='elu'))\n",
        "model.add(Conv2D(32, (3, 3), activation='elu'))\n",
        "model.add(Conv2D(32, (3, 3), activation='elu'))\n",
        "model.add(MaxPooling2D((2, 2)))\n",
        "model.add(Dropout(drop_rate))\n",
        "model.add(Conv2D(64, (3, 3), activation='elu'))\n",
        "model.add(Conv2D(64, (3, 3), activation='elu'))\n",
        "model.add(MaxPooling2D((2, 2)))\n",
        "model.add(Dropout(drop_rate))\n",
        "model.add(Conv2D(128, (3, 3), activation='elu'))\n",
        "model.add(Conv2D(128, (3, 3), activation='elu'))\n",
        "model.add(MaxPooling2D((2, 2)))\n",
        "model.add(Dropout(drop_rate))\n",
        "model.add(Flatten())\n",
        "model.add(Dense(512, activation='elu'))\n",
        "model.add(Dense(64, activation='elu'))\n",
        "model.add(Dense(16, activation='elu'))\n",
        "model.add(Dense(1))\n",
        "model.summary()\n",
        "\n",
        "model.compile(loss='mse', optimizer=Adam(lr=learning_rate))"
      ],
      "execution_count": null,
      "outputs": []
    },
    {
      "cell_type": "code",
      "metadata": {
        "id": "RGX5UTzGzXyV"
      },
      "source": [
        "# Train model\n",
        "checkpoint = ModelCheckpoint(\n",
        "    '/content/gdrive/My Drive/Colab Notebooks/UIT_custom/model-{epoch:03d}.h5',\n",
        "    monitor='val_loss',\n",
        "    verbose=0,\n",
        "    save_best_only=True,\n",
        "    mode='auto'\n",
        ")\n",
        "\n",
        "history = model.fit(\n",
        "    batch_generator(data_dir, X_train, y_train, batch_size, True),\n",
        "    epochs=epochs,\n",
        "    initial_epoch=initial_epoch,\n",
        "    steps_per_epoch=steps_per_epoch,\n",
        "    validation_data=batch_generator(data_dir, X_val, y_val, batch_size, False),\n",
        "    validation_steps=np.ceil(len(X_val) / batch_size),\n",
        "    callbacks=[checkpoint],\n",
        "    verbose=2\n",
        ")"
      ],
      "execution_count": null,
      "outputs": []
    },
    {
      "cell_type": "code",
      "metadata": {
        "id": "mULeFYnt7Zmm"
      },
      "source": [
        "plt.plot(history.history['loss'])\n",
        "plt.plot(history.history['val_loss'])\n",
        "plt.legend(['training', 'validation'])\n",
        "plt.title('Loss')\n",
        "plt.xlabel('Epoch')"
      ],
      "execution_count": null,
      "outputs": []
    },
    {
      "cell_type": "code",
      "metadata": {
        "id": "Hyn3Qq1jUT4o"
      },
      "source": [
        "# Save model\n",
        "model.save(\"/content/gdrive/My Drive/Colab Notebooks/model-020.h5\")"
      ],
      "execution_count": null,
      "outputs": []
    },
    {
      "cell_type": "code",
      "metadata": {
        "id": "d2l5XZXqCmym"
      },
      "source": [
        "# Load model\n",
        "model_path = \"/content/gdrive/My Drive/Colab Notebooks/model-086.h5\"\n",
        "model = load_model(model_path)"
      ],
      "execution_count": null,
      "outputs": []
    }
  ]
}